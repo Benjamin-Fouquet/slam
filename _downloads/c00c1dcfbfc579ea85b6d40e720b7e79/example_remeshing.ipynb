{
  "cells": [
    {
      "cell_type": "code",
      "execution_count": null,
      "metadata": {
        "collapsed": false
      },
      "outputs": [],
      "source": [
        "%matplotlib inline"
      ]
    },
    {
      "cell_type": "markdown",
      "metadata": {},
      "source": [
        "\n\n# Remeshing example in slam\n\n\n"
      ]
    },
    {
      "cell_type": "code",
      "execution_count": null,
      "metadata": {
        "collapsed": false
      },
      "outputs": [],
      "source": [
        "# Authors:\n# Guillaume Auzias <guillaume.auzias@univ-amu.fr>\n# Julien Barr\u00e8s <julien.barres@etu.univ-amu.fr>\n\n# License: BSD (3-clause)\n# sphinx_gallery_thumbnail_number = 2"
      ]
    },
    {
      "cell_type": "markdown",
      "metadata": {},
      "source": [
        "Importation of slam modules\n\n"
      ]
    },
    {
      "cell_type": "code",
      "execution_count": null,
      "metadata": {
        "collapsed": false
      },
      "outputs": [],
      "source": [
        "import slam.plot as splt\nimport slam.io as sio\nimport slam.remeshing as srem"
      ]
    },
    {
      "cell_type": "markdown",
      "metadata": {},
      "source": [
        "Source object files\n\n"
      ]
    },
    {
      "cell_type": "code",
      "execution_count": null,
      "metadata": {
        "collapsed": false
      },
      "outputs": [],
      "source": [
        "source_mesh_file = '../examples/data/example_mesh.gii'\nsource_texture_file = '../examples/data/example_texture.gii'\nsource_spherical_mesh_file = '../examples/data/example_mesh_spherical.gii'"
      ]
    },
    {
      "cell_type": "markdown",
      "metadata": {},
      "source": [
        "Target object files\n\n"
      ]
    },
    {
      "cell_type": "code",
      "execution_count": null,
      "metadata": {
        "collapsed": false
      },
      "outputs": [],
      "source": [
        "target_mesh_file = '../examples/data/example_mesh_2.gii'\ntarget_spherical_mesh_file = '../examples/data/example_mesh_2_spherical.gii'\n\nsource_mesh = sio.load_mesh(source_mesh_file)\nsource_tex = sio.load_texture(source_texture_file)\nsource_spherical_mesh = sio.load_mesh(source_spherical_mesh_file)\n\ntarget_mesh = sio.load_mesh(target_mesh_file)\ntarget_spherical_mesh = sio.load_mesh(target_spherical_mesh_file)\n\ninterpolated_tex_values = \\\n    srem.spherical_interpolation_nearest_neigbhor(source_spherical_mesh,\n                                                  target_spherical_mesh,\n                                                  source_tex.darray[0])"
      ]
    },
    {
      "cell_type": "markdown",
      "metadata": {},
      "source": [
        "Plot\n\n"
      ]
    },
    {
      "cell_type": "code",
      "execution_count": null,
      "metadata": {
        "collapsed": false
      },
      "outputs": [],
      "source": [
        "visb_sc = splt.visbrain_plot(mesh=source_mesh, tex=source_tex.darray[0],\n                             caption='source with curvature',\n                             cblabel='curvature')\nvisb_sc = splt.visbrain_plot(mesh=source_spherical_mesh,\n                             tex=source_tex.darray[0],\n                             caption='spherical source mesh',\n                             cblabel='curvature', visb_sc=visb_sc)\nvisb_sc = splt.visbrain_plot(mesh=target_mesh, tex=interpolated_tex_values,\n                             caption='target mesh with curvature '\n                             'from source mesh',\n                             cblabel='curvature', visb_sc=visb_sc)\nvisb_sc.preview()"
      ]
    }
  ],
  "metadata": {
    "kernelspec": {
      "display_name": "Python 3",
      "language": "python",
      "name": "python3"
    },
    "language_info": {
      "codemirror_mode": {
        "name": "ipython",
        "version": 3
      },
      "file_extension": ".py",
      "mimetype": "text/x-python",
      "name": "python",
      "nbconvert_exporter": "python",
      "pygments_lexer": "ipython3",
      "version": "3.6.6"
    }
  },
  "nbformat": 4,
  "nbformat_minor": 0
}