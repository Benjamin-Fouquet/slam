{
  "cells": [
    {
      "cell_type": "code",
      "execution_count": null,
      "metadata": {
        "collapsed": false
      },
      "outputs": [],
      "source": [
        "%matplotlib inline"
      ]
    },
    {
      "cell_type": "markdown",
      "metadata": {},
      "source": [
        "\n\n# example of curvature estimation in slam\n\n\n"
      ]
    },
    {
      "cell_type": "code",
      "execution_count": null,
      "metadata": {
        "collapsed": false
      },
      "outputs": [],
      "source": [
        "# Authors: Guillaume Auzias <guillaume.auzias@univ-amu.fr>\n#          Julien Barr\u00e8s <julien.barres@etu.univ-amu.fr>\n\n# License: BSD (3-clause)\n# sphinx_gallery_thumbnail_number = 2"
      ]
    },
    {
      "cell_type": "markdown",
      "metadata": {},
      "source": [
        "importation of slam modules\n\n"
      ]
    },
    {
      "cell_type": "code",
      "execution_count": null,
      "metadata": {
        "collapsed": false
      },
      "outputs": [],
      "source": [
        "import slam.io as sio\nimport slam.plot as splt\nimport slam.curvature as scurv"
      ]
    },
    {
      "cell_type": "markdown",
      "metadata": {},
      "source": [
        "loading an examplar mesh\n\n"
      ]
    },
    {
      "cell_type": "code",
      "execution_count": null,
      "metadata": {
        "collapsed": false
      },
      "outputs": [],
      "source": [
        "mesh_file = '../examples/data/example_mesh.gii'\nmesh = sio.load_mesh(mesh_file)"
      ]
    },
    {
      "cell_type": "markdown",
      "metadata": {},
      "source": [
        "Comptue estimations of principal curvatures\n\n"
      ]
    },
    {
      "cell_type": "code",
      "execution_count": null,
      "metadata": {
        "collapsed": false
      },
      "outputs": [],
      "source": [
        "PrincipalCurvatures, PrincipalDir1, PrincipalDir2 = \\\n    scurv.curvatures_and_derivatives(mesh)"
      ]
    },
    {
      "cell_type": "markdown",
      "metadata": {},
      "source": [
        "Comptue Gauss curvature from principal curvatures\n\n"
      ]
    },
    {
      "cell_type": "code",
      "execution_count": null,
      "metadata": {
        "collapsed": false
      },
      "outputs": [],
      "source": [
        "gaussian_curv = PrincipalCurvatures[0, :] * PrincipalCurvatures[1, :]"
      ]
    },
    {
      "cell_type": "markdown",
      "metadata": {},
      "source": [
        "Comptue mean curvature from principal curvatures\n\n"
      ]
    },
    {
      "cell_type": "code",
      "execution_count": null,
      "metadata": {
        "collapsed": false
      },
      "outputs": [],
      "source": [
        "mean_curv = 0.5 * (PrincipalCurvatures[0, :] + PrincipalCurvatures[1, :])"
      ]
    },
    {
      "cell_type": "markdown",
      "metadata": {},
      "source": [
        "Plot mean curvature\n\n"
      ]
    },
    {
      "cell_type": "code",
      "execution_count": null,
      "metadata": {
        "collapsed": false
      },
      "outputs": [],
      "source": [
        "visb_sc = splt.visbrain_plot(mesh=mesh, tex=mean_curv,\n                             caption='mean curvature',\n                             cblabel='mean curvature')\nvisb_sc.preview()"
      ]
    },
    {
      "cell_type": "markdown",
      "metadata": {},
      "source": [
        "Plot Gauss curvature\n\n"
      ]
    },
    {
      "cell_type": "code",
      "execution_count": null,
      "metadata": {
        "collapsed": false
      },
      "outputs": [],
      "source": [
        "visb_sc = splt.visbrain_plot(mesh=mesh, tex=gaussian_curv,\n                             caption='Gaussian curvature',\n                             cblabel='Gaussian curvature',\n                             cmap='hot')\nvisb_sc.preview()"
      ]
    },
    {
      "cell_type": "markdown",
      "metadata": {},
      "source": [
        "Decomposition of the curvatures into ShapeIndex and Curvedness\nBased on 'Surface shape and curvature scales\n          Jan JKoenderink & Andrea Jvan Doorn'\n\n"
      ]
    },
    {
      "cell_type": "code",
      "execution_count": null,
      "metadata": {
        "collapsed": false
      },
      "outputs": [],
      "source": [
        "shapeIndex, curvedness = scurv.decompose_curvature(PrincipalCurvatures)"
      ]
    },
    {
      "cell_type": "markdown",
      "metadata": {},
      "source": [
        "Plot of ShapeIndex and Curvedness\n\n"
      ]
    },
    {
      "cell_type": "code",
      "execution_count": null,
      "metadata": {
        "collapsed": false
      },
      "outputs": [],
      "source": [
        "visb_sc = splt.visbrain_plot(mesh=mesh, tex=shapeIndex,\n                             caption='ShapeIndex',\n                             cblabel='ShapeIndex',\n                             cmap='coolwarm')\nvisb_sc.preview()\n\nvisb_sc = splt.visbrain_plot(mesh=mesh, tex=curvedness,\n                             caption='Curvedness',\n                             cblabel='Curvedness',\n                             cmap='hot')\nvisb_sc.preview()"
      ]
    }
  ],
  "metadata": {
    "kernelspec": {
      "display_name": "Python 3",
      "language": "python",
      "name": "python3"
    },
    "language_info": {
      "codemirror_mode": {
        "name": "ipython",
        "version": 3
      },
      "file_extension": ".py",
      "mimetype": "text/x-python",
      "name": "python",
      "nbconvert_exporter": "python",
      "pygments_lexer": "ipython3",
      "version": "3.6.6"
    }
  },
  "nbformat": 4,
  "nbformat_minor": 0
}