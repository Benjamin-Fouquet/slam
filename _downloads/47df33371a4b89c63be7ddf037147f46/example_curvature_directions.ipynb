{
  "cells": [
    {
      "cell_type": "code",
      "execution_count": null,
      "metadata": {
        "collapsed": false
      },
      "outputs": [],
      "source": [
        "%matplotlib inline"
      ]
    },
    {
      "cell_type": "markdown",
      "metadata": {},
      "source": [
        "\n\n# example of curvature estimation in slam\n\n\n"
      ]
    },
    {
      "cell_type": "code",
      "execution_count": null,
      "metadata": {
        "collapsed": false
      },
      "outputs": [],
      "source": [
        "# Authors: Julien Lefevre <julien.lefevre@univ-amu.fr>\n\n# License: BSD (3-clause)\n# sphinx_gallery_thumbnail_number = 2"
      ]
    },
    {
      "cell_type": "markdown",
      "metadata": {},
      "source": [
        "importation of slam modules\n\n"
      ]
    },
    {
      "cell_type": "code",
      "execution_count": null,
      "metadata": {
        "collapsed": false
      },
      "outputs": [],
      "source": [
        "import slam.utils as ut\nimport slam.generate_parametric_surfaces as sgps\nimport slam.plot as splt\nimport slam.curvature as scurv\nimport numpy as np\nimport matplotlib.pyplot as plt\nfrom mpl_toolkits.mplot3d import Axes3D"
      ]
    },
    {
      "cell_type": "markdown",
      "metadata": {},
      "source": [
        "Visualization of vector fields with matplotlib\n\n"
      ]
    },
    {
      "cell_type": "code",
      "execution_count": null,
      "metadata": {
        "collapsed": false
      },
      "outputs": [],
      "source": [
        "def visualize(mesh, vector_field, colors=None, params=None):\n    \"\"\"\n    Visualize a mesh and a vector field over it\n    :param mesh: a mesh with n points\n    :param vector_field: (n,3) array\n    :param colors: (n,3) array\n    :param params: params[0] is the length of the quivers\n    :return:\n    \"\"\"\n    n = mesh.vertices.shape[0]\n    if colors == None:\n        colors = np.zeros((n, 3))\n        colors[:, 0] = 1\n    if params == None:\n        params = []\n        params.append(0.1)\n\n    fig = plt.figure()\n    ax = Axes3D(fig)\n    ax.plot_trisurf(mesh.vertices[:, 0], mesh.vertices[:, 1], mesh.vertices[:, 2],\n                    triangles=mesh.faces, shade=True)\n    plt.quiver(mesh.vertices[:, 0], mesh.vertices[:, 1], mesh.vertices[:, 2],\n               vector_field[:, 0], vector_field[:, 1], vector_field[:, 2], length=params[0], colors=colors)\n\n    return fig"
      ]
    },
    {
      "cell_type": "markdown",
      "metadata": {},
      "source": [
        "Create quadric mesh\n\n"
      ]
    },
    {
      "cell_type": "code",
      "execution_count": null,
      "metadata": {
        "collapsed": false
      },
      "outputs": [],
      "source": [
        "nstep = 20\nequilateral = True\n\nK = [1, 0.5]\nquadric_mesh = sgps.generate_quadric(K, nstep=[int(nstep), int(nstep)], equilateral=equilateral, ax=1, ay=1,\n                                     random_sampling=False,\n                                     ratio=0.2, random_distribution_type='gaussian')"
      ]
    },
    {
      "cell_type": "markdown",
      "metadata": {},
      "source": [
        "Compute principal directions of curvature\n\n"
      ]
    },
    {
      "cell_type": "code",
      "execution_count": null,
      "metadata": {
        "collapsed": false
      },
      "outputs": [],
      "source": [
        "PrincipalCurvatures, PrincipalDir1, PrincipalDir2 = scurv.curvatures_and_derivatives(quadric_mesh)"
      ]
    },
    {
      "cell_type": "markdown",
      "metadata": {},
      "source": [
        "Visualization\n\n"
      ]
    },
    {
      "cell_type": "code",
      "execution_count": null,
      "metadata": {
        "collapsed": false
      },
      "outputs": [],
      "source": [
        "visualize(quadric_mesh, PrincipalDir1)\nplt.show()"
      ]
    }
  ],
  "metadata": {
    "kernelspec": {
      "display_name": "Python 3",
      "language": "python",
      "name": "python3"
    },
    "language_info": {
      "codemirror_mode": {
        "name": "ipython",
        "version": 3
      },
      "file_extension": ".py",
      "mimetype": "text/x-python",
      "name": "python",
      "nbconvert_exporter": "python",
      "pygments_lexer": "ipython3",
      "version": "3.6.6"
    }
  },
  "nbformat": 4,
  "nbformat_minor": 0
}